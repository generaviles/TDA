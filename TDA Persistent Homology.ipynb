{
 "cells": [
  {
   "cell_type": "markdown",
   "metadata": {},
   "source": [
    "# TDA: Persistent Homology \n",
    "\n",
    "Here we explore the various PH algorithms that are integrated into the TDA toolkit.  These include;\n",
    "- DIPHA; https://github.com/DIPHA/dipha\n",
    "- RIPSER; https://github.com/Ripser\n",
    "- Cubical RIPSER; https://github.com/CubicalRipser\n",
    "- PERSEUS; http://people.maths.ox.ac.uk/nanda/perseus/index.html\n",
    "- PHAT; https://github.com/blazs/phat\n",
    "\n"
   ]
  },
  {
   "cell_type": "code",
   "execution_count": 2,
   "metadata": {},
   "outputs": [
    {
     "data": {
      "text/plain": [
       "['CubicalRipser2D',\n",
       " 'CubicalRipser3D',\n",
       " 'Perseus',\n",
       " 'Ripser',\n",
       " '__doc__',\n",
       " '__file__',\n",
       " '__loader__',\n",
       " '__name__',\n",
       " '__package__',\n",
       " '__spec__']"
      ]
     },
     "execution_count": 2,
     "metadata": {},
     "output_type": "execute_result"
    }
   ],
   "source": [
    "#  Import the TDA toolkit\n",
    "import tda.tda as TDA\n",
    "\n",
    "#  Here are the available classes and methods in TDA:\n",
    "dir(TDA)"
   ]
  },
  {
   "cell_type": "markdown",
   "metadata": {},
   "source": [
    "There are currently 4 Persistent Homology classes; CubicalRipser2D, CubicalRipser3D, Perseus and Ripser.  Each of them have a default constructor, destructor and a ComputeBarcode() method:"
   ]
  },
  {
   "cell_type": "code",
   "execution_count": 2,
   "metadata": {},
   "outputs": [
    {
     "data": {
      "text/plain": [
       "['ComputeBarcode',\n",
       " '__class__',\n",
       " '__delattr__',\n",
       " '__dir__',\n",
       " '__doc__',\n",
       " '__eq__',\n",
       " '__format__',\n",
       " '__ge__',\n",
       " '__getattribute__',\n",
       " '__gt__',\n",
       " '__hash__',\n",
       " '__init__',\n",
       " '__init_subclass__',\n",
       " '__le__',\n",
       " '__lt__',\n",
       " '__module__',\n",
       " '__ne__',\n",
       " '__new__',\n",
       " '__reduce__',\n",
       " '__reduce_ex__',\n",
       " '__repr__',\n",
       " '__setattr__',\n",
       " '__sizeof__',\n",
       " '__str__',\n",
       " '__subclasshook__']"
      ]
     },
     "execution_count": 2,
     "metadata": {},
     "output_type": "execute_result"
    }
   ],
   "source": [
    "dir(TDA.CubicalRipser2D)"
   ]
  },
  {
   "cell_type": "markdown",
   "metadata": {},
   "source": [
    "# Cubical Ripser 2D"
   ]
  },
  {
   "cell_type": "markdown",
   "metadata": {},
   "source": [
    "Let's examine each of these PH functions.  First, CubicalRipser2D takes the following function arguments;\n",
    "\n",
    "**CubicalRipser2D::ComputeBarcode(string input_file, string output_file, string format, string method, double threshold, bool print)**\n",
    "\n",
    "Where the input file is either DIPHA or PERSEUS formatted file with the 2D persistence image condensed into a single vector.  The method can either be the Linkfind method () or the Compute Pairs method ().  The Print option will print the results to the screen.\n"
   ]
  },
  {
   "cell_type": "code",
   "execution_count": 4,
   "metadata": {},
   "outputs": [],
   "source": [
    "#  Create a CubicalRipser2D object\n",
    "cube2D = TDA.CubicalRipser2D()\n",
    "\n",
    "#  Try one of the examples in the dat/ folder\n",
    "cube2D.ComputeBarcode(\"algorithms/CubicalRipser_2dim/dat/data-1.complex\", \"test.csv\", \"DIPHA\", \"LINKFIND\", 100, True)"
   ]
  },
  {
   "cell_type": "markdown",
   "metadata": {},
   "source": [
    "# Cubical Ripser 3D"
   ]
  },
  {
   "cell_type": "markdown",
   "metadata": {},
   "source": [
    "CubicalRipser3D takes a similar set of arguments in its ComputeBarcode() method;\n",
    "\n",
    "**CubicalRipser3D::ComputeBarcode(string input_file, string output_file, string format, string method, double threshold, bool print)**\n",
    "\n",
    "In which the format types are the same as CubicalRipser2D.  "
   ]
  },
  {
   "cell_type": "code",
   "execution_count": null,
   "metadata": {},
   "outputs": [],
   "source": [
    "#  Create a CubicalRipser3D object\n",
    "cube3D = TDA.CubicalRipser3D()\n",
    "\n",
    "#  Try one of the examples in the dat/ folder\n",
    "#  cube3D.ComputeBarcode(\"algorithms/CubicalRipser_3dim/dat/3dimsample.txt\", \"test.csv\", \"DIPHA\", \"LINKFIND\", 100, True)"
   ]
  },
  {
   "cell_type": "markdown",
   "metadata": {},
   "source": [
    "# PERSEUS"
   ]
  },
  {
   "cell_type": "markdown",
   "metadata": {},
   "source": [
    "The ComputeBarcode() method in PERSEUS has the following parameters;\n",
    "\n",
    "**Perseus::ComputeBarcode(string input_type, string infile, string outfile, string eng)**\n",
    "\n",
    "Where input_type is either one of the following;\n",
    "\n",
    "     - \"debug\"            Compute Khale's random rips on N-vertices\n",
    "     - \"cubtop\"           Dense cubical grid\n",
    "     - \"scubtop\"          Sparse cubical grid\n",
    "     - \"rips\"             Point-radius paris for rips-complex\n",
    "     - \"brips\"            Rips with different initial radii\n",
    "     - \"brips-capped\"\n",
    "     - \"brips2\"           Rips with common initial radii\n",
    "     - \"brips_comrad_capped\" or \"brips_capped_comrad\"   Rips with capped dimension\n",
    "     - \"brips_witness\"    Witnessed rips-complex\n",
    "     - \"distmat\"          Rips-complex for a distance matrix\n",
    "     - \"corrmat\"          Rips-complex for a correlation matrix\n",
    "     - \"timeser\"          Time series data\n",
    "     - \"simtop\"           List of top simplices, all of the same dimension\n",
    "     - \"simtop_static\"    Manifold stoplex with no birth time information\n",
    "     - \"nmfsimtop\"        List of top simplices of different dimensions\n",
    "     - \"nmfsimtop_capped\"\n",
    "     - \"nmfsimtop_static_capped\"\n",
    "     - \"nmfsimtop_static\"\n",
    "     - \"ricci\"            to run: ./perseus ricci \"simtop file\" \"edge info\"\n",
    "     - \"bary\"             Barycentric coordinates?\n",
    "     - \"cubmov\"\n",
    "     \n",
    " The \"eng\" parameter stands for engine, which has the possible inputs;\n",
    " \n",
    "     - \"r\"                Reduce and Update\n",
    "     - \"c\"                Coreduce and Update\n",
    "     - \"s\"                Skip coreductions"
   ]
  },
  {
   "cell_type": "code",
   "execution_count": 5,
   "metadata": {},
   "outputs": [],
   "source": [
    "#  Create Perseus object\n",
    "pers = TDA.Perseus()\n",
    "\n",
    "#  Compute a Barcode for one of the examples in the Ripser data set\n",
    "pers.ComputeBarcode(\"distmat\", \"algorithms/Ripser/examples/random16.lower_distance_matrix\", \"test.csv\", \"r\")"
   ]
  },
  {
   "cell_type": "markdown",
   "metadata": {},
   "source": [
    "# RIPSER"
   ]
  },
  {
   "cell_type": "markdown",
   "metadata": {},
   "source": [
    "Ripser is by far the fastest algorithm, whose ComputeBarcode() method takes the following inputs;\n",
    "\n",
    "**Ripser::ComputeBarcode(const char* filename, long dim, float thres, float rat, std::string form, long mod)**\n",
    "\n",
    "Where \"dim\" is the dimension of the data, \"thres\" is the threshold, \"rat\" is the ratio, \"form\" is the format of the file which can have the possible values\n",
    "\n",
    "     - \"upper-distance\"    upper triangular distance matrix\n",
    "\t - \"distance\"          full distance matrix\n",
    "\t - \"point-cloud\"       point cloud in Euclidean space\n",
    "\t - \"dipha\"             distance matrix in DIPHA file format\n",
    "\t - \"ripser\"            distance matrix in Ripser binary file format"
   ]
  },
  {
   "cell_type": "code",
   "execution_count": 6,
   "metadata": {},
   "outputs": [],
   "source": [
    "#  Create a Ripser object\n",
    "rips = TDA.Ripser()\n",
    "\n",
    "#  Compute a barcode from one of the examples\n",
    "rips.ComputeBarcode(\"algorithms/Ripser/examples/sphere_3_192.lower_distance_matrix\",1,0,1,\"\",1)"
   ]
  },
  {
   "cell_type": "code",
   "execution_count": null,
   "metadata": {},
   "outputs": [],
   "source": []
  }
 ],
 "metadata": {
  "kernelspec": {
   "display_name": "Python 3",
   "language": "python",
   "name": "python3"
  },
  "language_info": {
   "codemirror_mode": {
    "name": "ipython",
    "version": 3
   },
   "file_extension": ".py",
   "mimetype": "text/x-python",
   "name": "python",
   "nbconvert_exporter": "python",
   "pygments_lexer": "ipython3",
   "version": "3.6.5"
  }
 },
 "nbformat": 4,
 "nbformat_minor": 2
}
